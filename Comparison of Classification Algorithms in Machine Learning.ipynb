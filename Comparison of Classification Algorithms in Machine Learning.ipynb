{
 "cells": [
  {
   "cell_type": "markdown",
   "id": "741f245c-e9b3-49ef-9774-4e5f5332c406",
   "metadata": {},
   "source": [
    "# Comparison of Classification Algorithms in Machine Learning"
   ]
  },
  {
   "cell_type": "markdown",
   "id": "b1a0555c-a63c-4a4a-8ca7-4ee53e7df5e2",
   "metadata": {},
   "source": [
    "## 1. Veri Seti Seçimi:"
   ]
  },
  {
   "cell_type": "markdown",
   "id": "169fdedd-548f-432f-87fd-456bdfd2ff03",
   "metadata": {},
   "source": [
    "Makale, sosyal medya pazarlamasına dayalı bir veri seti kullanıyor. Bu veri setinde \"Age\" (Yaş), \"EstimatedSalary\" (Tahmini Maaş) ve \"Purchased\" (Satın Alındı mı?) gibi sütunlar bulunuyor. \"Purchased\" sütunu hedef değişken olarak kullanılıyor ve ikili bir sınıflandırma problemi oluşturuyor (0 veya 1)."
   ]
  },
  {
   "cell_type": "markdown",
   "id": "657c63dd-62dc-49dd-adae-6e5f976c9670",
   "metadata": {},
   "source": [
    "## 2. Veri Ön İşleme:"
   ]
  },
  {
   "cell_type": "markdown",
   "id": "7c4fd4bf-0ec2-4135-8eb4-d32b318754ce",
   "metadata": {},
   "source": [
    "Veri seti, eğitim ve test olmak üzere ikiye ayrılıyor. Bu, modellerin performansını değerlendirmek için standart bir uygulamadır."
   ]
  },
  {
   "cell_type": "markdown",
   "id": "fabd5ccc-365f-4928-9ef5-24ef5966ae6e",
   "metadata": {},
   "source": [
    "## 3. Kullanılan Sınıflandırma Algoritmaları:"
   ]
  },
  {
   "cell_type": "markdown",
   "id": "d4e2e1a5-6b96-4c38-a17c-1a5968aa66b9",
   "metadata": {},
   "source": [
    "Makale, aşağıdaki algoritmaları kullanarak modeller oluşturuyor:\n",
    "\n",
    "Makale, aşağıdaki algoritmaları kullanarak modeller oluşturuyor:\n",
    "\n",
    "K-En Yakın Komşu (KNN)\n",
    "\n",
    "Karar Ağacı (Decision Tree)\n",
    "\n",
    "Lojistik Regresyon (Logistic Regression)\n",
    "\n",
    "Pasif Agresif Sınıflandırıcı (Passive Aggressive Classifier)\n",
    "AmanXai"
   ]
  },
  {
   "cell_type": "markdown",
   "id": "01b2e593-e216-42bc-a737-6599086a6b1f",
   "metadata": {},
   "source": [
    "## 4.Model Eğitimi ve Değerlendirme:"
   ]
  },
  {
   "cell_type": "markdown",
   "id": "6fbceb86-1949-46b0-858a-e60b73e2f314",
   "metadata": {},
   "source": [
    "Her algoritma, eğitim verisiyle eğitiliyor ve test verisi üzerinde değerlendirme yapılıyor. Performans metrikleri olarak doğruluk skorları kullanılıyor. Elde edilen sonuçlar bir DataFrame içinde saklanıyor ve karşılaştırılıyor."
   ]
  },
  {
   "cell_type": "markdown",
   "id": "d5483101-2f21-4afb-adb9-26525a7545ee",
   "metadata": {},
   "source": [
    "## 5. Sonuçlar:"
   ]
  },
  {
   "cell_type": "markdown",
   "id": "8d763853-f940-4c56-865b-35f47e4d1c78",
   "metadata": {},
   "source": [
    "Makaledeki örnek veri seti üzerinde elde edilen doğruluk skorları şu şekilde:\n",
    "\n",
    "Karar Ağacı: 0.9800\n",
    "\n",
    "KNN: 0.8750\n",
    "\n",
    "Lojistik Regresyon: 0.6425\n",
    "\n",
    "Pasif Agresif: 0.6425\n",
    "\n",
    "Bu sonuçlara göre, Karar Ağacı algoritması en yüksek doğruluk skoruna ulaşmış ve bu veri seti için en iyi performansı göstermiştir."
   ]
  },
  {
   "cell_type": "markdown",
   "id": "d911dc0f-576d-4001-b9db-38b2e92ece4c",
   "metadata": {},
   "source": [
    "\n",
    "\n",
    "\n",
    "[Comparison of Classification Algorithms in Machine Learning](https://orneklink.com)[https://amanxai.com/2021/10/02/comparison-of-classification-algorithms-in-machine-learning]\n"
   ]
  },
  {
   "cell_type": "code",
   "execution_count": 2,
   "id": "6b49603b-2958-4ab4-91a2-f9d114054a19",
   "metadata": {},
   "outputs": [
    {
     "name": "stdout",
     "output_type": "stream",
     "text": [
      "   Age  EstimatedSalary  Purchased\n",
      "0   19            19000          0\n",
      "1   35            20000          0\n",
      "2   26            43000          0\n",
      "3   27            57000          0\n",
      "4   19            76000          0\n"
     ]
    }
   ],
   "source": [
    "import numpy\n",
    "import pandas as pd\n",
    "import numpy as np\n",
    "from sklearn.model_selection import train_test_split\n",
    "from sklearn.tree import DecisionTreeClassifier\n",
    "from sklearn.linear_model import LogisticRegression\n",
    "from sklearn.naive_bayes import BernoulliNB\n",
    "from sklearn.neighbors import KNeighborsClassifier\n",
    "from sklearn.linear_model import PassiveAggressiveClassifier\n",
    "from sklearn.metrics import classification_report\n",
    "from sklearn.svm import SVC\n",
    "\n",
    "\n",
    "data = pd.read_csv(\"https://raw.githubusercontent.com/amankharwal/Website-data/master/social.csv\")\n",
    "print(data.head())"
   ]
  },
  {
   "cell_type": "code",
   "execution_count": 3,
   "id": "d4f657c4-253e-4745-ac91-325280e3eb0e",
   "metadata": {},
   "outputs": [
    {
     "name": "stderr",
     "output_type": "stream",
     "text": [
      "C:\\ProgramData\\anaconda3\\Lib\\site-packages\\sklearn\\neighbors\\_classification.py:239: DataConversionWarning: A column-vector y was passed when a 1d array was expected. Please change the shape of y to (n_samples,), for example using ravel().\n",
      "  return self._fit(X, y)\n",
      "C:\\ProgramData\\anaconda3\\Lib\\site-packages\\sklearn\\utils\\validation.py:1408: DataConversionWarning: A column-vector y was passed when a 1d array was expected. Please change the shape of y to (n_samples, ), for example using ravel().\n",
      "  y = column_or_1d(y, warn=True)\n",
      "C:\\ProgramData\\anaconda3\\Lib\\site-packages\\sklearn\\utils\\validation.py:1408: DataConversionWarning: A column-vector y was passed when a 1d array was expected. Please change the shape of y to (n_samples, ), for example using ravel().\n",
      "  y = column_or_1d(y, warn=True)\n"
     ]
    },
    {
     "data": {
      "text/html": [
       "<div>\n",
       "<style scoped>\n",
       "    .dataframe tbody tr th:only-of-type {\n",
       "        vertical-align: middle;\n",
       "    }\n",
       "\n",
       "    .dataframe tbody tr th {\n",
       "        vertical-align: top;\n",
       "    }\n",
       "\n",
       "    .dataframe thead th {\n",
       "        text-align: right;\n",
       "    }\n",
       "</style>\n",
       "<table border=\"1\" class=\"dataframe\">\n",
       "  <thead>\n",
       "    <tr style=\"text-align: right;\">\n",
       "      <th></th>\n",
       "      <th>Classification Algorithms</th>\n",
       "      <th>Score</th>\n",
       "    </tr>\n",
       "  </thead>\n",
       "  <tbody>\n",
       "    <tr>\n",
       "      <th>0</th>\n",
       "      <td>KNN Classifier</td>\n",
       "      <td>0.8750</td>\n",
       "    </tr>\n",
       "    <tr>\n",
       "      <th>1</th>\n",
       "      <td>Decision Tree Classifier</td>\n",
       "      <td>0.9800</td>\n",
       "    </tr>\n",
       "    <tr>\n",
       "      <th>2</th>\n",
       "      <td>Logistic Regression</td>\n",
       "      <td>0.8400</td>\n",
       "    </tr>\n",
       "    <tr>\n",
       "      <th>3</th>\n",
       "      <td>Passive Aggressive Classifier</td>\n",
       "      <td>0.6425</td>\n",
       "    </tr>\n",
       "  </tbody>\n",
       "</table>\n",
       "</div>"
      ],
      "text/plain": [
       "       Classification Algorithms   Score\n",
       "0                 KNN Classifier  0.8750\n",
       "1       Decision Tree Classifier  0.9800\n",
       "2            Logistic Regression  0.8400\n",
       "3  Passive Aggressive Classifier  0.6425"
      ]
     },
     "execution_count": 3,
     "metadata": {},
     "output_type": "execute_result"
    }
   ],
   "source": [
    "x = np.array(data[[\"Age\", \"EstimatedSalary\"]])\n",
    "y = np.array(data[[\"Purchased\"]])\n",
    "\n",
    "xtrain, xtest, ytrain, ytest = train_test_split(x, y, test_size=0.10, random_state=42)\n",
    "decisiontree = DecisionTreeClassifier()\n",
    "logisticregression = LogisticRegression()\n",
    "knearestclassifier = KNeighborsClassifier()\n",
    "svm_classifier = SVC()\n",
    "bernoulli_naiveBayes = BernoulliNB()\n",
    "passiveAggressive = PassiveAggressiveClassifier()\n",
    "\n",
    "knearestclassifier.fit(xtrain, ytrain)\n",
    "decisiontree.fit(xtrain, ytrain)\n",
    "logisticregression.fit(xtrain, ytrain)\n",
    "passiveAggressive.fit(xtrain, ytrain)\n",
    "\n",
    "data1 = {\"Classification Algorithms\": [\"KNN Classifier\", \"Decision Tree Classifier\", \n",
    "                                       \"Logistic Regression\", \"Passive Aggressive Classifier\"],\n",
    "      \"Score\": [knearestclassifier.score(x,y), decisiontree.score(x, y), \n",
    "                logisticregression.score(x, y), passiveAggressive.score(x,y) ]}\n",
    "score = pd.DataFrame(data1)\n",
    "score"
   ]
  },
  {
   "cell_type": "code",
   "execution_count": null,
   "id": "fa1fec30-1ed1-48eb-b820-d6c22de831b2",
   "metadata": {},
   "outputs": [],
   "source": []
  },
  {
   "cell_type": "code",
   "execution_count": null,
   "id": "eea1d69f-9447-4acc-89d1-e428002c6aa3",
   "metadata": {},
   "outputs": [],
   "source": []
  },
  {
   "cell_type": "code",
   "execution_count": null,
   "id": "bdb0e6b2-1254-4461-95b0-ba6d3bdce9f4",
   "metadata": {},
   "outputs": [],
   "source": []
  },
  {
   "cell_type": "code",
   "execution_count": null,
   "id": "56254b01-574f-4c27-aadf-937aaf6b042d",
   "metadata": {},
   "outputs": [],
   "source": []
  }
 ],
 "metadata": {
  "kernelspec": {
   "display_name": "Python 3 (ipykernel)",
   "language": "python",
   "name": "python3"
  },
  "language_info": {
   "codemirror_mode": {
    "name": "ipython",
    "version": 3
   },
   "file_extension": ".py",
   "mimetype": "text/x-python",
   "name": "python",
   "nbconvert_exporter": "python",
   "pygments_lexer": "ipython3",
   "version": "3.12.9"
  }
 },
 "nbformat": 4,
 "nbformat_minor": 5
}
